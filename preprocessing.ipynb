{
 "cells": [
  {
   "cell_type": "markdown",
   "metadata": {},
   "source": [
    "### Loading Libraries"
   ]
  },
  {
   "cell_type": "code",
   "execution_count": 288,
   "metadata": {},
   "outputs": [],
   "source": [
    "import os\n",
    "import time\n",
    "import re\n",
    "import numpy as np"
   ]
  },
  {
   "cell_type": "code",
   "execution_count": 89,
   "metadata": {},
   "outputs": [],
   "source": [
    "def get_conversations():\n",
    "    conversations = []\n",
    "    with open('finalgot.txt', 'r',encoding='utf-8',errors='ignore') as f:\n",
    "        for conversation in f.read().splitlines():\n",
    "            conversation=conversation.replace(\"'\", \"\")\n",
    "            conversations.append(conversation)\n",
    "\n",
    "    return conversations"
   ]
  },
  {
   "cell_type": "code",
   "execution_count": 90,
   "metadata": {},
   "outputs": [],
   "source": [
    "c = get_conversations()"
   ]
  },
  {
   "cell_type": "code",
   "execution_count": 91,
   "metadata": {},
   "outputs": [],
   "source": [
    "co = [i for i in c if i.startswith('[')]\n",
    "con = [x for x in c if x not in co]\n",
    "conv = [s for s in con if \":\" in s]"
   ]
  },
  {
   "cell_type": "code",
   "execution_count": 94,
   "metadata": {},
   "outputs": [
    {
     "name": "stdout",
     "output_type": "stream",
     "text": [
      "Old len : 32105\n",
      "middle len : 31673\n",
      "New len : 24076\n"
     ]
    }
   ],
   "source": [
    "print(\"Old len : \" + str(len(c)))\n",
    "print(\"middle len : \" + str(len(con)))\n",
    "print(\"New len : \" + str(len(conv)))"
   ]
  },
  {
   "cell_type": "code",
   "execution_count": 126,
   "metadata": {},
   "outputs": [],
   "source": [
    "def get_convs():\n",
    "    conversations=[]\n",
    "    with open('your_file_got.txt', 'r',encoding='utf-8') as f:\n",
    "        for conversation in f.read().splitlines():\n",
    "            conversation=conversation.split(\":\", 1)[-1]\n",
    "            conversations.append(conversation)\n",
    "    return conversations"
   ]
  },
  {
   "cell_type": "code",
   "execution_count": 128,
   "metadata": {},
   "outputs": [],
   "source": [
    "convs = get_convs()"
   ]
  },
  {
   "cell_type": "code",
   "execution_count": 131,
   "metadata": {},
   "outputs": [],
   "source": [
    "convs = [str(i) for i in convs]"
   ]
  },
  {
   "cell_type": "markdown",
   "metadata": {},
   "source": [
    "#### Function to check datatypes in list"
   ]
  },
  {
   "cell_type": "code",
   "execution_count": 135,
   "metadata": {},
   "outputs": [],
   "source": [
    "class MyList(list):\n",
    "    def __contains__(self, typ):\n",
    "        for val in self:\n",
    "            if isinstance(val, typ):\n",
    "                return True\n",
    "        return False"
   ]
  },
  {
   "cell_type": "code",
   "execution_count": 136,
   "metadata": {},
   "outputs": [],
   "source": [
    "x = MyList(convs)"
   ]
  },
  {
   "cell_type": "code",
   "execution_count": 262,
   "metadata": {},
   "outputs": [
    {
     "name": "stdout",
     "output_type": "stream",
     "text": [
      "False\n",
      "True\n",
      "False\n"
     ]
    }
   ],
   "source": [
    "print (int in x)\n",
    "print (str in x)\n",
    "print (float in x)"
   ]
  },
  {
   "cell_type": "markdown",
   "metadata": {},
   "source": [
    "### Function to remove bracketed componant\n",
    "**For example canny : (to mark)He is good boy**<br>\n",
    "So it remove (to mark from list)\n"
   ]
  },
  {
   "cell_type": "code",
   "execution_count": 278,
   "metadata": {},
   "outputs": [],
   "source": [
    "def clean(text):\n",
    "    text = re.sub(\"[\\*(\\[].*?[\\)*\\]]\", \"\", text)\n",
    "    return text"
   ]
  },
  {
   "cell_type": "code",
   "execution_count": 279,
   "metadata": {},
   "outputs": [],
   "source": [
    "clean_con = []\n",
    "for cu in convs:\n",
    "    clean_con.append(clean(cu))"
   ]
  },
  {
   "cell_type": "markdown",
   "metadata": {},
   "source": [
    "### Function to remove contraction\n",
    "For example **he'd** revised to **he had**"
   ]
  },
  {
   "cell_type": "code",
   "execution_count": 280,
   "metadata": {},
   "outputs": [],
   "source": [
    "def clean_text(text):\n",
    "    #text = re.sub(r\"\\ m\", \" am\", text)\n",
    "    text = re.sub(r\"\\ ive\", \" i have\", text)\n",
    "    text = re.sub(r\"\\ itd\", \" it had\", text)\n",
    "    text = re.sub(r\"\\ it'd\", \" it had\", text)\n",
    "    text = re.sub(r\"\\ what's\", \" what is\", text)\n",
    "    text = re.sub(r\"\\ whats\", \" what is\", text)\n",
    "    text = re.sub(r\"\\ we're\", \" we are\", text)\n",
    "    text = re.sub(r\"\\ why's\", \" why is\", text)\n",
    "    text = re.sub(r\"\\ where's\", \" where is\", text)\n",
    "    text = re.sub(r\"\\ wheres\", \" where is\", text)\n",
    "    text = re.sub(r\"\\ whys\", \" why is\", text)\n",
    "    text = re.sub(r\"\\ hes\", \" he is\", text)\n",
    "    text = re.sub(r\"\\ isnt\", \" is not\", text)\n",
    "    text = re.sub(r\"\\ didn’t\", \" did not\", text)\n",
    "    text = re.sub(r\"\\ didnt\", \" did not\", text)\n",
    "    text = re.sub(r\"\\ he's\", \" he is\", text)\n",
    "    text = re.sub(r\"\\ shes\", \" she is\", text)\n",
    "    text = re.sub(r\"\\ werent\", \" were not\", text)\n",
    "    text = re.sub(r\"\\ waren't\", \" were not\", text)\n",
    "    text = re.sub(r\"\\ wasnt\", \" was not\", text)\n",
    "    text = re.sub(r\"\\ wasn't\", \" was not\", text)    \n",
    "    text = re.sub(r\"\\ wouldnt\", \" would not\", text)\n",
    "    text = re.sub(r\"\\ shouldnt\", \" should not\", text)\n",
    "    text = re.sub(r\"\\ shouldn't\", \" should not\", text)\n",
    "    text = re.sub(r\"\\ couldnt\", \" could not\", text)\n",
    "    text = re.sub(r\"\\ theyre\", \" they are\", text)\n",
    "    text = re.sub(r\"\\ they're\", \" they are\", text)\n",
    "    text = re.sub(r\"\\ couldn't\", \" could not\", text)\n",
    "    text = re.sub(r\"\\ she's\", \" she is\", text)\n",
    "    text = re.sub(r\"\\ doesn't\", \" does not\", text)  \n",
    "    text = re.sub(r\"\\ doesnt\", \" does not\", text) \n",
    "    text = re.sub(r\"\\ i'd\", \" i had\", text)\n",
    "    text = re.sub(r\"\\ what're\", \" what are\", text)\n",
    "    text = re.sub(r\"\\ shes\", \" she is\", text)\n",
    "    text = re.sub(r\"\\ i've\", \" i have\", text)\n",
    "    text = re.sub(r\"\\ d'you\", \" do you\", text)\n",
    "    text = re.sub(r\"\\ wouldn't\", \" would not\", text)\n",
    "    text = re.sub(r\"\\ there's\", \" there is\", text)\n",
    "    text = re.sub(r\"\\ m'lord\", \" my lod\", text)\n",
    "    text = re.sub(r\"\\ don't\", \" do not\", text)\n",
    "    text = re.sub(r\"\\ dont\", \" do not\", text)\n",
    "    text = re.sub(r\"\\ where's\", \" where is\", text)\n",
    "    text = re.sub(r\"\\ why's\", \" why is\", text)\n",
    "    text = re.sub(r\"\\ im\", \" i am\", text)\n",
    "    text = re.sub(r\"\\ i'm\",\" i am\",text)\n",
    "    text = re.sub(r\"\\ its\",\" it is\",text)\n",
    "    text = re.sub(r\"\\ it's\",\" it is\",text)\n",
    "    text = re.sub(r\"\\ isnt\", \" is not\", text)\n",
    "    text = re.sub(r\"\\ aren't\", \" are not\", text)\n",
    "    text = re.sub(r\"\\ arent\", \" are not\", text)\n",
    "    text = re.sub(r\"\\ isn't\", \" is not\", text)\n",
    "    text = re.sub(r\"\\ didn't\", \" did not\", text)\n",
    "    text = re.sub(r\"\\ didnt\", \" did not\", text)\n",
    "    text = re.sub(r\"\\ i'd\", \" i had\", text)\n",
    "    text = re.sub(r\"\\ id\", \" i had\", text)\n",
    "    text = re.sub(r\"\\ i hadeas\", \" ideas\", text)\n",
    "    text = re.sub(r\"\\ we'd\", \" we had\", text)\n",
    "    text = re.sub(r\"\\ wed\", \" we had\", text)\n",
    "    text = re.sub(r\"\\ hasn't\", \" has not\", text)\n",
    "    text = re.sub(r\"\\ has not\", \" has not\", text)\n",
    "    text = re.sub(r\"\\ haven't\", \" have not\", text)\n",
    "    text = re.sub(r\"\\ havent\", \" have not\", text)\n",
    "    text = re.sub(r\"\\ won't\",\" would not\",text)\n",
    "    text = re.sub(r\"\\ wont\", \" would not\", text)\n",
    "    text = re.sub(r\"\\ they've\",\" they have\",text)\n",
    "    text = re.sub(r\"\\ theyve\", \" they havet\", text)\n",
    "    text = re.sub(r\"\\ you're\", \" you are\", text)\n",
    "    text = re.sub(r\"\\ youre\", \" you are\", text)\n",
    "    text = re.sub(r\"\\ we've\", \" we have\", text)\n",
    "    text = re.sub(r\"\\ weve\", \" we have\", text)\n",
    "    text = re.sub(r\"\\ that's\", \" that is\", text)\n",
    "    text = re.sub(r\"\\ m'lord\", \" my lord\", text)\n",
    "    text = re.sub(r\"\\ mlord\", \" my lord\", text)\n",
    "    text = re.sub(r\"\\ thats\", \" that is\", text)\n",
    "    text = re.sub(r\"\\ ive\", \" i have\", text)\n",
    "    text = re.sub(r\"\\ i've\", \" i have\", text)\n",
    "    text = re.sub(r\"\\ who's\", \" who is\", text)\n",
    "    text = re.sub(r\"\\ whos\", \" who is\", text)\n",
    "    text = re.sub(r\"\\ ill\", \" i will\", text)\n",
    "    text = re.sub(r\"\\ i'll\", \" i will\",text)\n",
    "    text = re.sub(r\"\\ ll\", \" will\", text)\n",
    "    text = re.sub(r\"\\ wouldve\", \" would have\", text)\n",
    "    text = re.sub(r\"\\ would've\", \" would have\", text)\n",
    "    text = re.sub(r\"\\ couldve\", \" could have\", text)\n",
    "    text = re.sub(r\"\\ could've\", \" could have\", text)\n",
    "    text = re.sub(r\"\\ shouldve\", \" should have\", text)\n",
    "    text = re.sub(r\"\\ should've\", \" should have\", text)\n",
    "    text = re.sub(r\"\\ theres\", \" there is\", text)\n",
    "    text = re.sub(r\"\\ you've\", \" you have\", text)\n",
    "    text = re.sub(r\"\\ youve\", \" you have\", text)\n",
    "    text = re.sub(r\"\\ you'd\", \" you had\", text)\n",
    "    text = re.sub(r\"\\ youd\", \" you had\", text)\n",
    "    text = re.sub(r\"\\ she'll\", \" she will\", text)\n",
    "    text = re.sub(r\"\\ shell\", \" she will\", text)\n",
    "    text = re.sub(r\"\\ he'll\", \" he will\", text)\n",
    "    text = re.sub(r\"\\ you'll\", \" you will\", text)\n",
    "    text = re.sub(r\"\\ youll\", \" you will\", text)\n",
    "    text = re.sub(r\"\\ we'll\", \" we will\", text)\n",
    "    text = re.sub(r\"\\ ve\", \" have\", text)\n",
    "    text = re.sub(r\"\\ can't\", \"can not\", text)\n",
    "    text = re.sub(r\"\\ cant\", \"can not\", text)\n",
    "    text = re.sub(r\"\\ re\", \" are\", text)\n",
    "    text = re.sub(r\"\\ lets\", \" let us\", text)\n",
    "    text = re.sub(r\"\\ let's\", \" let us\", text)\n",
    "    text = re.sub(r\"\\ wont\", \"would not\", text)\n",
    "    \n",
    "    return text"
   ]
  },
  {
   "cell_type": "code",
   "execution_count": 281,
   "metadata": {},
   "outputs": [],
   "source": [
    "clean_convs = []\n",
    "for cous in clean_con:\n",
    "    clean_convs.append(clean_text(cous))"
   ]
  },
  {
   "cell_type": "markdown",
   "metadata": {},
   "source": [
    "### Function to remove puctutaions\n",
    "For example **oh! no** to **oh no**"
   ]
  },
  {
   "cell_type": "code",
   "execution_count": 282,
   "metadata": {},
   "outputs": [],
   "source": [
    "def clean_text2(text):\n",
    "    text = re.sub(r\"\\.\", \" . \", text)\n",
    "    text = re.sub(r\"\\?\", \" ? \", text)\n",
    "    text = re.sub(r\"!\", \" ! \", text)\n",
    "    text = re.sub(r\"/\", \" / \", text)\n",
    "    text = re.sub(r\",\", \" , \", text)\n",
    "    text = re.sub(r'\"', ' \" ', text)\n",
    "    text = re.sub(r'\"', ' \" ', text)\n",
    "    text = re.sub(\"'\", \" \", text)\n",
    "    text = re.sub(r\"[-<>{}+=|!?'()\\:@.,]\", \"\", text)\n",
    "    return text"
   ]
  },
  {
   "cell_type": "code",
   "execution_count": 283,
   "metadata": {},
   "outputs": [],
   "source": [
    "clean_convsat = []\n",
    "for cousi in clean_convs:\n",
    "    clean_convsat.append(clean_text(cousi))"
   ]
  },
  {
   "cell_type": "markdown",
   "metadata": {},
   "source": [
    "### Remove ' and 's' from list\n",
    "I unable to remove (') from list and hence **father's** and **mother's** remain unchanged"
   ]
  },
  {
   "cell_type": "code",
   "execution_count": 284,
   "metadata": {},
   "outputs": [],
   "source": [
    "clean_convsat = [w.replace(\"'\", \" \") for w in clean_convsat]\n",
    "clean_convsat = [re.sub(r\"\\ s\", \"\",i) for i in clean_convsat]"
   ]
  },
  {
   "cell_type": "markdown",
   "metadata": {},
   "source": [
    "### Save the current text file"
   ]
  },
  {
   "cell_type": "code",
   "execution_count": 286,
   "metadata": {},
   "outputs": [],
   "source": [
    "with open('clean_convsat.txt', 'w') as f:\n",
    "    for item in clean_convsat:\n",
    "        f.write(\"%s\\n\" % item)"
   ]
  },
  {
   "cell_type": "markdown",
   "metadata": {},
   "source": [
    "### Create question and ansfile with alternate text\n",
    "**Suppose Main file is** <ul><li>Main File : <p> Do you know<br>No<li> Quesfile - Do you know <li> Ansfile - No"
   ]
  },
  {
   "cell_type": "code",
   "execution_count": 287,
   "metadata": {},
   "outputs": [],
   "source": [
    "fn = open('clean_convsat.txt', 'r') \n",
    "fn1 = open('quesfile.txt', 'w') \n",
    "fn2 = open('ansfile.txt','w')\n",
    "  \n",
    "# read the content of the file line by line \n",
    "cont = fn.readlines() \n",
    "type(cont) \n",
    "\n",
    "for i in range(0, len(cont)): \n",
    "    if(i%2!=0): \n",
    "        fn2.write(cont[i]) \n",
    "    else: \n",
    "        fn1.write(cont[i])\n",
    "  \n",
    "fn1.close()\n",
    "fn2.close()"
   ]
  }
 ],
 "metadata": {
  "kernelspec": {
   "display_name": "Python 3",
   "language": "python",
   "name": "python3"
  },
  "language_info": {
   "codemirror_mode": {
    "name": "ipython",
    "version": 3
   },
   "file_extension": ".py",
   "mimetype": "text/x-python",
   "name": "python",
   "nbconvert_exporter": "python",
   "pygments_lexer": "ipython3",
   "version": "3.6.7"
  }
 },
 "nbformat": 4,
 "nbformat_minor": 2
}
