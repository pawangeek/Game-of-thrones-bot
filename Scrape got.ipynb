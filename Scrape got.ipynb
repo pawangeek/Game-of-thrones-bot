{
 "cells": [
  {
   "cell_type": "code",
   "execution_count": 14,
   "metadata": {},
   "outputs": [],
   "source": [
    "import requests\n",
    "import urllib.request\n",
    "import time\n",
    "from bs4 import BeautifulSoup\n",
    "import os\n",
    "import re"
   ]
  },
  {
   "cell_type": "code",
   "execution_count": 15,
   "metadata": {},
   "outputs": [],
   "source": [
    "r = r\"(- )+\"\n",
    "data_folder = \"GOTData/\""
   ]
  },
  {
   "cell_type": "code",
   "execution_count": 16,
   "metadata": {},
   "outputs": [],
   "source": [
    "def cleaner(text):\n",
    "    if text:\n",
    "        if re.findall(r, text):\n",
    "            return False\n",
    "        else:\n",
    "            return True"
   ]
  },
  {
   "cell_type": "code",
   "execution_count": 17,
   "metadata": {},
   "outputs": [],
   "source": [
    "def single_file_creator():\n",
    "    for season in range(8):\n",
    "        url = 'https://genius.com/albums/Game-of-thrones/Season-'+str(season+1)+'-scripts'\n",
    "        folder_name =  data_folder +'season'+str(season+1)\n",
    "        os.mkdir(folder_name)\n",
    "      \n",
    "        response = requests.get(url)\n",
    "        soup = BeautifulSoup(response.text, 'html.parser')\n",
    "\n",
    "        a = soup.findAll(\"a\", {\"class\": \"u-display_block\"})\n",
    "        list_links = [data['href'] for data in a]\n",
    "\n",
    "\n",
    "        for key, link in enumerate(list_links):\n",
    "            url = link\n",
    "            response = requests.get(url)\n",
    "            soup = BeautifulSoup(response.content, 'html.parser')\n",
    "            a = soup.findAll(\"div\", {\"class\": \"lyrics\"})\n",
    "            data = a[0].text.split('\\n')\n",
    "            data  = [text for text in data if cleaner(text)]\n",
    "            with open(folder_name +\"/e\"+str(key+1)+\".txt\", \"w\",encoding=\"utf-8\") as f:\n",
    "                for text in data:\n",
    "                    f.write(text)\n",
    "                    f.write(\"\\n\")\n"
   ]
  },
  {
   "cell_type": "code",
   "execution_count": 32,
   "metadata": {},
   "outputs": [],
   "source": [
    "def file_merger():\n",
    "    folders = [data_folder+folder_name for folder_name in os.listdir(data_folder)]\n",
    "    master_list = [folder + '/' + file for folder in sorted(folders) for file in sorted(os.listdir(folder), key=lambda s: int(s[1:-4]))]\n",
    "    with open(data_folder + 'final_data.txt', 'w',encoding='utf-8',errors='ignore') as outfile:\n",
    "        for files in master_list:\n",
    "            with open(files) as infile:\n",
    "                for line in infile:\n",
    "                    outfile.write(line)\n"
   ]
  },
  {
   "cell_type": "code",
   "execution_count": 33,
   "metadata": {},
   "outputs": [],
   "source": [
    "single_file_creator()\n",
    "file_merger()"
   ]
  },
  {
   "cell_type": "code",
   "execution_count": null,
   "metadata": {},
   "outputs": [],
   "source": []
  }
 ],
 "metadata": {
  "kernelspec": {
   "display_name": "Python 3",
   "language": "python",
   "name": "python3"
  },
  "language_info": {
   "codemirror_mode": {
    "name": "ipython",
    "version": 3
   },
   "file_extension": ".py",
   "mimetype": "text/x-python",
   "name": "python",
   "nbconvert_exporter": "python",
   "pygments_lexer": "ipython3",
   "version": "3.6.7"
  }
 },
 "nbformat": 4,
 "nbformat_minor": 2
}
